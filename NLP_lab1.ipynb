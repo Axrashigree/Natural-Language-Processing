{
  "cells": [
    {
      "cell_type": "code",
      "source": [
        "import os\n",
        "import random\n",
        "import nltk    #Natural Language Toolkit\n",
        "nltk.download('stopwords')  # download list of stop word(and, the, is, etc) which are meaning less\n",
        "nltk.download('punkt')      # download data for tokenization of NLtk\n",
        "nltk.download('averaged_perceptron_tagger')     # part of Speech tagging(Grameritical part of speech, none, verbs, adverbs)\n",
        "nltk.download('maxent_ne_chunker')              # Download name entity (name of places, person, etc)\n",
        "nltk.download('words')    # Download nltk's list of english words\n",
        "random.seed(92)"
      ],
      "metadata": {
        "colab": {
          "base_uri": "https://localhost:8080/"
        },
        "id": "ea4tM5H5IKMe",
        "outputId": "7c097d5f-a20f-4b76-e123-e933203c6374"
      },
      "execution_count": null,
      "outputs": [
        {
          "output_type": "stream",
          "name": "stderr",
          "text": [
            "[nltk_data] Downloading package stopwords to /root/nltk_data...\n",
            "[nltk_data]   Unzipping corpora/stopwords.zip.\n",
            "[nltk_data] Downloading package punkt to /root/nltk_data...\n",
            "[nltk_data]   Unzipping tokenizers/punkt.zip.\n",
            "[nltk_data] Downloading package averaged_perceptron_tagger to\n",
            "[nltk_data]     /root/nltk_data...\n",
            "[nltk_data]   Unzipping taggers/averaged_perceptron_tagger.zip.\n",
            "[nltk_data] Downloading package maxent_ne_chunker to\n",
            "[nltk_data]     /root/nltk_data...\n",
            "[nltk_data]   Unzipping chunkers/maxent_ne_chunker.zip.\n",
            "[nltk_data] Downloading package words to /root/nltk_data...\n",
            "[nltk_data]   Unzipping corpora/words.zip.\n"
          ]
        }
      ]
    },
    {
      "cell_type": "code",
      "source": [
        "corpus = str([\"\"\"The surface temperature of mountainous terrain plays a crucial role in various environmental and ecological processes, such as climate modeling, hydrological studies, and land cover analysis. Accurate temperature mapping in such regions is challenging due to their complex topography and spatial heterogeneity. The availability of space-borne datasets has revolutionized the field of remote sensing, enabling researchers to study surface temperature patterns at large scales and over extended time periods. In this research, we aim to conduct a comparative analysis of two widely used space-borne datasets, Landsat-8 and MODIS, for mapping the surface temperature of the Karakoram Range, a significant mountain range situated in the Himalayas.\n",
        "The Karakoram Range, located in the northern region of Pakistan, is renowned for its majestic peaks and glacial landscapes. Its unique geographical features make it an ideal candidate for studying surface temperature patterns. The accurate assessment of surface temperature in this region is critical for understanding climate change impacts, glacial melt rates, and ecological dynamics. However, due to the scarcity of ground-based weather stations in the remote mountainous terrain, space-borne remote sensing data offer a valuable alternative for temperature analysis.\n",
        "\"\"\"])"
      ],
      "metadata": {
        "id": "1mXJRoNhIKiK"
      },
      "execution_count": null,
      "outputs": []
    },
    {
      "cell_type": "code",
      "source": [
        "token_list = []\n",
        "sentences = nltk.sent_tokenize(str(corpus))\n",
        "for sentence in sentences:\n",
        "  words = nltk.word_tokenize(sentence)\n",
        "  token_list.extend(words)\n",
        "  tagged_words = nltk.pos_tag(words)\n",
        "  named_entities = nltk.ne_chunk(tagged_words)\n",
        "\n",
        "print(token_list)\n",
        "print ('\\nLength of word_list:', len(token_list))"
      ],
      "metadata": {
        "colab": {
          "base_uri": "https://localhost:8080/"
        },
        "id": "6mP7HagRIKrY",
        "outputId": "5935fa84-3424-447c-9570-a078a4724152"
      },
      "execution_count": null,
      "outputs": [
        {
          "output_type": "stream",
          "name": "stdout",
          "text": [
            "['[', \"'The\", 'surface', 'temperature', 'of', 'mountainous', 'terrain', 'plays', 'a', 'crucial', 'role', 'in', 'various', 'environmental', 'and', 'ecological', 'processes', ',', 'such', 'as', 'climate', 'modeling', ',', 'hydrological', 'studies', ',', 'and', 'land', 'cover', 'analysis', '.', 'Accurate', 'temperature', 'mapping', 'in', 'such', 'regions', 'is', 'challenging', 'due', 'to', 'their', 'complex', 'topography', 'and', 'spatial', 'heterogeneity', '.', 'The', 'availability', 'of', 'space-borne', 'datasets', 'has', 'revolutionized', 'the', 'field', 'of', 'remote', 'sensing', ',', 'enabling', 'researchers', 'to', 'study', 'surface', 'temperature', 'patterns', 'at', 'large', 'scales', 'and', 'over', 'extended', 'time', 'periods', '.', 'In', 'this', 'research', ',', 'we', 'aim', 'to', 'conduct', 'a', 'comparative', 'analysis', 'of', 'two', 'widely', 'used', 'space-borne', 'datasets', ',', 'Landsat-8', 'and', 'MODIS', ',', 'for', 'mapping', 'the', 'surface', 'temperature', 'of', 'the', 'Karakoram', 'Range', ',', 'a', 'significant', 'mountain', 'range', 'situated', 'in', 'the', 'Himalayas.\\\\nThe', 'Karakoram', 'Range', ',', 'located', 'in', 'the', 'northern', 'region', 'of', 'Pakistan', ',', 'is', 'renowned', 'for', 'its', 'majestic', 'peaks', 'and', 'glacial', 'landscapes', '.', 'Its', 'unique', 'geographical', 'features', 'make', 'it', 'an', 'ideal', 'candidate', 'for', 'studying', 'surface', 'temperature', 'patterns', '.', 'The', 'accurate', 'assessment', 'of', 'surface', 'temperature', 'in', 'this', 'region', 'is', 'critical', 'for', 'understanding', 'climate', 'change', 'impacts', ',', 'glacial', 'melt', 'rates', ',', 'and', 'ecological', 'dynamics', '.', 'However', ',', 'due', 'to', 'the', 'scarcity', 'of', 'ground-based', 'weather', 'stations', 'in', 'the', 'remote', 'mountainous', 'terrain', ',', 'space-borne', 'remote', 'sensing', 'data', 'offer', 'a', 'valuable', 'alternative', 'for', 'temperature', 'analysis.\\\\n', \"'\", ']']\n",
            "\n",
            "Length of word_list: 207\n"
          ]
        }
      ]
    },
    {
      "cell_type": "code",
      "source": [
        "word_list = corpus.split()\n",
        "print(word_list)\n",
        "print ('\\nLength of word_list:', len(word_list))"
      ],
      "metadata": {
        "colab": {
          "base_uri": "https://localhost:8080/"
        },
        "id": "yostMyXCIKtg",
        "outputId": "111860bd-6c0d-41ac-9e7e-518d6c254e1e"
      },
      "execution_count": null,
      "outputs": [
        {
          "output_type": "stream",
          "name": "stdout",
          "text": [
            "[\"['The\", 'surface', 'temperature', 'of', 'mountainous', 'terrain', 'plays', 'a', 'crucial', 'role', 'in', 'various', 'environmental', 'and', 'ecological', 'processes,', 'such', 'as', 'climate', 'modeling,', 'hydrological', 'studies,', 'and', 'land', 'cover', 'analysis.', 'Accurate', 'temperature', 'mapping', 'in', 'such', 'regions', 'is', 'challenging', 'due', 'to', 'their', 'complex', 'topography', 'and', 'spatial', 'heterogeneity.', 'The', 'availability', 'of', 'space-borne', 'datasets', 'has', 'revolutionized', 'the', 'field', 'of', 'remote', 'sensing,', 'enabling', 'researchers', 'to', 'study', 'surface', 'temperature', 'patterns', 'at', 'large', 'scales', 'and', 'over', 'extended', 'time', 'periods.', 'In', 'this', 'research,', 'we', 'aim', 'to', 'conduct', 'a', 'comparative', 'analysis', 'of', 'two', 'widely', 'used', 'space-borne', 'datasets,', 'Landsat-8', 'and', 'MODIS,', 'for', 'mapping', 'the', 'surface', 'temperature', 'of', 'the', 'Karakoram', 'Range,', 'a', 'significant', 'mountain', 'range', 'situated', 'in', 'the', 'Himalayas.\\\\nThe', 'Karakoram', 'Range,', 'located', 'in', 'the', 'northern', 'region', 'of', 'Pakistan,', 'is', 'renowned', 'for', 'its', 'majestic', 'peaks', 'and', 'glacial', 'landscapes.', 'Its', 'unique', 'geographical', 'features', 'make', 'it', 'an', 'ideal', 'candidate', 'for', 'studying', 'surface', 'temperature', 'patterns.', 'The', 'accurate', 'assessment', 'of', 'surface', 'temperature', 'in', 'this', 'region', 'is', 'critical', 'for', 'understanding', 'climate', 'change', 'impacts,', 'glacial', 'melt', 'rates,', 'and', 'ecological', 'dynamics.', 'However,', 'due', 'to', 'the', 'scarcity', 'of', 'ground-based', 'weather', 'stations', 'in', 'the', 'remote', 'mountainous', 'terrain,', 'space-borne', 'remote', 'sensing', 'data', 'offer', 'a', 'valuable', 'alternative', 'for', 'temperature', \"analysis.\\\\n']\"]\n",
            "\n",
            "Length of word_list: 184\n"
          ]
        }
      ]
    },
    {
      "cell_type": "code",
      "source": [
        "alphabets_only = [word for word in word_list if word.isalpha()]\n",
        "print(alphabets_only)\n",
        "print ('\\nLength of word_list:', len(alphabets_only))"
      ],
      "metadata": {
        "colab": {
          "base_uri": "https://localhost:8080/"
        },
        "id": "JkiclS8ZIsZQ",
        "outputId": "7ef15e62-4eb0-4d97-fec7-a17611fbc79c"
      },
      "execution_count": null,
      "outputs": [
        {
          "output_type": "stream",
          "name": "stdout",
          "text": [
            "['surface', 'temperature', 'of', 'mountainous', 'terrain', 'plays', 'a', 'crucial', 'role', 'in', 'various', 'environmental', 'and', 'ecological', 'such', 'as', 'climate', 'hydrological', 'and', 'land', 'cover', 'Accurate', 'temperature', 'mapping', 'in', 'such', 'regions', 'is', 'challenging', 'due', 'to', 'their', 'complex', 'topography', 'and', 'spatial', 'The', 'availability', 'of', 'datasets', 'has', 'revolutionized', 'the', 'field', 'of', 'remote', 'enabling', 'researchers', 'to', 'study', 'surface', 'temperature', 'patterns', 'at', 'large', 'scales', 'and', 'over', 'extended', 'time', 'In', 'this', 'we', 'aim', 'to', 'conduct', 'a', 'comparative', 'analysis', 'of', 'two', 'widely', 'used', 'and', 'for', 'mapping', 'the', 'surface', 'temperature', 'of', 'the', 'Karakoram', 'a', 'significant', 'mountain', 'range', 'situated', 'in', 'the', 'Karakoram', 'located', 'in', 'the', 'northern', 'region', 'of', 'is', 'renowned', 'for', 'its', 'majestic', 'peaks', 'and', 'glacial', 'Its', 'unique', 'geographical', 'features', 'make', 'it', 'an', 'ideal', 'candidate', 'for', 'studying', 'surface', 'temperature', 'The', 'accurate', 'assessment', 'of', 'surface', 'temperature', 'in', 'this', 'region', 'is', 'critical', 'for', 'understanding', 'climate', 'change', 'glacial', 'melt', 'and', 'ecological', 'due', 'to', 'the', 'scarcity', 'of', 'weather', 'stations', 'in', 'the', 'remote', 'mountainous', 'remote', 'sensing', 'data', 'offer', 'a', 'valuable', 'alternative', 'for', 'temperature']\n",
            "\n",
            "Length of word_list: 156\n"
          ]
        }
      ]
    },
    {
      "cell_type": "code",
      "source": [
        "lower_case = [word.lower() for word in alphabets_only]\n",
        "print(lower_case)\n",
        "print ('\\nLength of word_list:', len(lower_case))"
      ],
      "metadata": {
        "colab": {
          "base_uri": "https://localhost:8080/"
        },
        "id": "1t2sa39VIsdY",
        "outputId": "7a9e964c-58e4-4266-8ade-1727ba29ce45"
      },
      "execution_count": null,
      "outputs": [
        {
          "output_type": "stream",
          "name": "stdout",
          "text": [
            "['surface', 'temperature', 'of', 'mountainous', 'terrain', 'plays', 'a', 'crucial', 'role', 'in', 'various', 'environmental', 'and', 'ecological', 'such', 'as', 'climate', 'hydrological', 'and', 'land', 'cover', 'accurate', 'temperature', 'mapping', 'in', 'such', 'regions', 'is', 'challenging', 'due', 'to', 'their', 'complex', 'topography', 'and', 'spatial', 'the', 'availability', 'of', 'datasets', 'has', 'revolutionized', 'the', 'field', 'of', 'remote', 'enabling', 'researchers', 'to', 'study', 'surface', 'temperature', 'patterns', 'at', 'large', 'scales', 'and', 'over', 'extended', 'time', 'in', 'this', 'we', 'aim', 'to', 'conduct', 'a', 'comparative', 'analysis', 'of', 'two', 'widely', 'used', 'and', 'for', 'mapping', 'the', 'surface', 'temperature', 'of', 'the', 'karakoram', 'a', 'significant', 'mountain', 'range', 'situated', 'in', 'the', 'karakoram', 'located', 'in', 'the', 'northern', 'region', 'of', 'is', 'renowned', 'for', 'its', 'majestic', 'peaks', 'and', 'glacial', 'its', 'unique', 'geographical', 'features', 'make', 'it', 'an', 'ideal', 'candidate', 'for', 'studying', 'surface', 'temperature', 'the', 'accurate', 'assessment', 'of', 'surface', 'temperature', 'in', 'this', 'region', 'is', 'critical', 'for', 'understanding', 'climate', 'change', 'glacial', 'melt', 'and', 'ecological', 'due', 'to', 'the', 'scarcity', 'of', 'weather', 'stations', 'in', 'the', 'remote', 'mountainous', 'remote', 'sensing', 'data', 'offer', 'a', 'valuable', 'alternative', 'for', 'temperature']\n",
            "\n",
            "Length of word_list: 156\n"
          ]
        }
      ]
    },
    {
      "cell_type": "code",
      "source": [
        "from nltk.corpus import stopwords\n",
        "\n",
        "stopwords_nltk = set(stopwords.words('english'))\n",
        "print(stopwords_nltk)\n",
        "print ('\\nLength of word_list:', len(stopwords_nltk), '\\n')\n",
        "\n",
        "cleaned_words = [word for word in lower_case if word not in stopwords_nltk]\n",
        "print(cleaned_words)\n",
        "print ('\\nLength of word_list:', len(cleaned_words))"
      ],
      "metadata": {
        "colab": {
          "base_uri": "https://localhost:8080/"
        },
        "id": "apuN160WIsht",
        "outputId": "70ad580d-5829-42e6-9f30-4fd3e54ff4d8"
      },
      "execution_count": null,
      "outputs": [
        {
          "output_type": "stream",
          "name": "stdout",
          "text": [
            "{'had', 'him', 'her', 'an', 'to', 'after', 'have', 'a', 'down', 'what', 'd', 've', 'am', \"mustn't\", 's', 'that', 'few', 'ma', 'our', 'has', 'couldn', 'below', 'again', 'he', 'such', 'through', 'being', 'these', 'until', 'both', 'does', 'about', 'your', 'she', 'ours', 'here', 'myself', 'and', 'those', 'no', 'i', \"you've\", 'himself', 'now', 'shouldn', 'any', \"you'll\", 'or', 'during', \"should've\", 'wasn', 'where', 'who', 'just', 'some', 'if', 'under', 'by', 'isn', 'themselves', \"that'll\", 'up', 'we', 'they', 'll', \"needn't\", 'mustn', 'why', 'too', 'yourself', 'there', 'did', 're', 'each', 'same', 'mightn', 'my', 'before', 'm', 'nor', 'so', \"you'd\", 'doing', 'ain', 'shan', 'should', \"you're\", 'ourselves', 'me', 'be', 'its', 'over', 'their', \"hasn't\", 'when', 'are', 'at', 'weren', 'needn', 'wouldn', \"won't\", 'further', 'from', 'theirs', 'o', 'the', 'hadn', \"mightn't\", 'his', \"wasn't\", 'whom', 'having', 'you', 't', 'on', 'will', 'as', 'didn', 'y', 'been', 'very', \"aren't\", 'won', 'then', 'against', 'other', 'above', 'hasn', 'while', \"haven't\", \"wouldn't\", \"couldn't\", \"shan't\", 'aren', 'it', 'of', 'once', 'more', 'don', 'yours', 'most', 'itself', 'all', 'off', 'haven', 'how', \"hadn't\", 'herself', 'were', \"isn't\", 'is', 'with', \"don't\", 'was', 'but', 'hers', 'yourselves', \"weren't\", 'doesn', 'this', 'out', 'for', 'only', 'than', 'do', 'own', 'not', 'because', 'between', \"it's\", 'into', 'can', \"didn't\", 'which', \"doesn't\", 'in', \"shouldn't\", 'them', \"she's\"}\n",
            "\n",
            "Length of word_list: 179 \n",
            "\n",
            "['surface', 'temperature', 'mountainous', 'terrain', 'plays', 'crucial', 'role', 'various', 'environmental', 'ecological', 'climate', 'hydrological', 'land', 'cover', 'accurate', 'temperature', 'mapping', 'regions', 'challenging', 'due', 'complex', 'topography', 'spatial', 'availability', 'datasets', 'revolutionized', 'field', 'remote', 'enabling', 'researchers', 'study', 'surface', 'temperature', 'patterns', 'large', 'scales', 'extended', 'time', 'aim', 'conduct', 'comparative', 'analysis', 'two', 'widely', 'used', 'mapping', 'surface', 'temperature', 'karakoram', 'significant', 'mountain', 'range', 'situated', 'karakoram', 'located', 'northern', 'region', 'renowned', 'majestic', 'peaks', 'glacial', 'unique', 'geographical', 'features', 'make', 'ideal', 'candidate', 'studying', 'surface', 'temperature', 'accurate', 'assessment', 'surface', 'temperature', 'region', 'critical', 'understanding', 'climate', 'change', 'glacial', 'melt', 'ecological', 'due', 'scarcity', 'weather', 'stations', 'remote', 'mountainous', 'remote', 'sensing', 'data', 'offer', 'valuable', 'alternative', 'temperature']\n",
            "\n",
            "Length of word_list: 95\n"
          ]
        }
      ]
    },
    {
      "cell_type": "code",
      "source": [
        "import tensorflow as tf"
      ],
      "metadata": {
        "id": "kIHMbFi7IslO"
      },
      "execution_count": null,
      "outputs": []
    },
    {
      "cell_type": "code",
      "source": [
        "from tensorflow.keras.preprocessing.text import Tokenizer\n",
        "\n",
        "sentences = [\n",
        "    'i love my dog',\n",
        "    'I, love my cat',\n",
        "    'You love my dog!'\n",
        "]\n",
        "\n",
        "tokenizer = Tokenizer(num_words = 100)\n",
        "tokenizer.fit_on_texts(sentences)\n",
        "word_index = tokenizer.word_index\n",
        "print(word_index)"
      ],
      "metadata": {
        "colab": {
          "base_uri": "https://localhost:8080/"
        },
        "id": "-3WKXPYCIspd",
        "outputId": "941f7111-afeb-4dd0-e71a-b0572718c587"
      },
      "execution_count": null,
      "outputs": [
        {
          "output_type": "stream",
          "name": "stdout",
          "text": [
            "{'love': 1, 'my': 2, 'i': 3, 'dog': 4, 'cat': 5, 'you': 6}\n"
          ]
        }
      ]
    },
    {
      "cell_type": "code",
      "source": [
        "import json\n",
        "import tensorflow as tf\n",
        "from tensorflow import keras\n",
        "from tensorflow.keras.preprocessing.text import Tokenizer\n",
        "from tensorflow.keras.preprocessing.sequence import pad_sequences\n",
        "\n",
        "sentences = [\n",
        "    'I love my dog',\n",
        "    'I love my cat',\n",
        "    'You love my dog!',\n",
        "    'Do you think my dog is amazing?'\n",
        "]\n",
        "\n",
        "tokenizer = Tokenizer(num_words = 100, oov_token=\"<OOV>\")\n",
        "tokenizer.fit_on_texts(sentences)\n",
        "word_index = tokenizer.word_index\n",
        "\n",
        "sequences = tokenizer.texts_to_sequences(sentences)\n",
        "\n",
        "padded = pad_sequences(sequences, maxlen=5)\n",
        "print(\"\\nWord Index = \" , word_index)\n",
        "print(\"\\nSequences = \" , sequences)\n",
        "print(\"\\nPadded Sequences:\")\n",
        "print(padded)"
      ],
      "metadata": {
        "colab": {
          "base_uri": "https://localhost:8080/"
        },
        "id": "gDpvoPo0Issh",
        "outputId": "cabbf640-3353-4f4f-ed76-feaefd639ef1"
      },
      "execution_count": null,
      "outputs": [
        {
          "output_type": "stream",
          "name": "stdout",
          "text": [
            "\n",
            "Word Index =  {'<OOV>': 1, 'my': 2, 'love': 3, 'dog': 4, 'i': 5, 'you': 6, 'cat': 7, 'do': 8, 'think': 9, 'is': 10, 'amazing': 11}\n",
            "\n",
            "Sequences =  [[5, 3, 2, 4], [5, 3, 2, 7], [6, 3, 2, 4], [8, 6, 9, 2, 4, 10, 11]]\n",
            "\n",
            "Padded Sequences:\n",
            "[[ 0  5  3  2  4]\n",
            " [ 0  5  3  2  7]\n",
            " [ 0  6  3  2  4]\n",
            " [ 9  2  4 10 11]]\n"
          ]
        }
      ]
    },
    {
      "cell_type": "code",
      "source": [
        "vocab_size = 10000\n",
        "embedding_dim = 16\n",
        "max_length = 100\n",
        "trunc_type='post'\n",
        "padding_type='post'\n",
        "oov_tok = \"<OOV>\"\n",
        "training_size = 20000"
      ],
      "metadata": {
        "id": "cESceElWIsvb"
      },
      "execution_count": null,
      "outputs": []
    },
    {
      "cell_type": "code",
      "source": [
        "!wget --no-check-certificate \\\n",
        "    https://storage.googleapis.com/learning-datasets/sarcasm.json \\\n",
        "    -O /tmp/sarcasm.json"
      ],
      "metadata": {
        "colab": {
          "base_uri": "https://localhost:8080/"
        },
        "id": "fJpESAcKIsy7",
        "outputId": "f23a65c6-8ea7-4a4b-8ac1-f2cac49b0ada"
      },
      "execution_count": null,
      "outputs": [
        {
          "output_type": "stream",
          "name": "stdout",
          "text": [
            "--2023-08-23 06:52:05--  https://storage.googleapis.com/learning-datasets/sarcasm.json\n",
            "Resolving storage.googleapis.com (storage.googleapis.com)... 173.194.203.128, 74.125.199.128, 74.125.195.128, ...\n",
            "Connecting to storage.googleapis.com (storage.googleapis.com)|173.194.203.128|:443... connected.\n",
            "HTTP request sent, awaiting response... 200 OK\n",
            "Length: 5643545 (5.4M) [application/json]\n",
            "Saving to: ‘/tmp/sarcasm.json’\n",
            "\n",
            "\r/tmp/sarcasm.json     0%[                    ]       0  --.-KB/s               \r/tmp/sarcasm.json   100%[===================>]   5.38M  --.-KB/s    in 0.04s   \n",
            "\n",
            "2023-08-23 06:52:05 (144 MB/s) - ‘/tmp/sarcasm.json’ saved [5643545/5643545]\n",
            "\n"
          ]
        }
      ]
    },
    {
      "cell_type": "code",
      "source": [
        "with open(\"/tmp/sarcasm.json\", 'r') as f:\n",
        "    datastore = json.load(f)\n",
        "\n",
        "sentences = []\n",
        "labels = []\n",
        "\n",
        "for item in datastore:\n",
        "    sentences.append(item['headline'])\n",
        "    labels.append(item['is_sarcastic'])"
      ],
      "metadata": {
        "id": "tY_3dGyTIs2B"
      },
      "execution_count": null,
      "outputs": []
    },
    {
      "cell_type": "code",
      "source": [
        "training_sentences = sentences[0:training_size]\n",
        "testing_sentences = sentences[training_size:]\n",
        "training_labels = labels[0:training_size]\n",
        "testing_labels = labels[training_size:]"
      ],
      "metadata": {
        "id": "gZJGn3gRJokS"
      },
      "execution_count": null,
      "outputs": []
    },
    {
      "cell_type": "code",
      "source": [
        "tokenizer = Tokenizer(num_words=vocab_size, oov_token=oov_tok)\n",
        "tokenizer.fit_on_texts(training_sentences)\n",
        "\n",
        "word_index = tokenizer.word_index\n",
        "\n",
        "training_sequences = tokenizer.texts_to_sequences(training_sentences)\n",
        "training_padded = pad_sequences(training_sequences, maxlen=max_length, padding=padding_type, truncating=trunc_type)\n",
        "\n",
        "testing_sequences = tokenizer.texts_to_sequences(testing_sentences)\n",
        "testing_padded = pad_sequences(testing_sequences, maxlen=max_length, padding=padding_type, truncating=trunc_type)"
      ],
      "metadata": {
        "id": "ZbTTIj57JonC"
      },
      "execution_count": null,
      "outputs": []
    },
    {
      "cell_type": "code",
      "source": [
        "import numpy as np\n",
        "training_padded = np.array(training_padded)\n",
        "training_labels = np.array(training_labels)\n",
        "testing_padded = np.array(testing_padded)\n",
        "testing_labels = np.array(testing_labels)"
      ],
      "metadata": {
        "id": "cISkb0IRJop-"
      },
      "execution_count": null,
      "outputs": []
    },
    {
      "cell_type": "code",
      "source": [
        "model = tf.keras.Sequential([\n",
        "    tf.keras.layers.Embedding(vocab_size, embedding_dim, input_length=max_length),# taki hmy he word k against 1 dimension set kr skty hn\n",
        "    tf.keras.layers.GlobalAveragePooling1D(),\n",
        "    tf.keras.layers.Dense(24, activation='relu'),\n",
        "    tf.keras.layers.Dense(1, activation='sigmoid')\n",
        "])\n",
        "model.compile(loss='binary_crossentropy',optimizer='adam',metrics=['accuracy'])\n",
        "model.summary()"
      ],
      "metadata": {
        "colab": {
          "base_uri": "https://localhost:8080/"
        },
        "id": "6fmcDIBWJotC",
        "outputId": "22fe5a97-5e76-44d2-95c0-3921229720c5"
      },
      "execution_count": null,
      "outputs": [
        {
          "output_type": "stream",
          "name": "stdout",
          "text": [
            "Model: \"sequential\"\n",
            "_________________________________________________________________\n",
            " Layer (type)                Output Shape              Param #   \n",
            "=================================================================\n",
            " embedding (Embedding)       (None, 100, 16)           160000    \n",
            "                                                                 \n",
            " global_average_pooling1d (G  (None, 16)               0         \n",
            " lobalAveragePooling1D)                                          \n",
            "                                                                 \n",
            " dense (Dense)               (None, 24)                408       \n",
            "                                                                 \n",
            " dense_1 (Dense)             (None, 1)                 25        \n",
            "                                                                 \n",
            "=================================================================\n",
            "Total params: 160,433\n",
            "Trainable params: 160,433\n",
            "Non-trainable params: 0\n",
            "_________________________________________________________________\n"
          ]
        }
      ]
    },
    {
      "cell_type": "code",
      "source": [
        "num_epochs = 15\n",
        "history = model.fit(training_padded, training_labels, epochs=num_epochs, validation_data=(testing_padded, testing_labels), verbose=2)"
      ],
      "metadata": {
        "colab": {
          "base_uri": "https://localhost:8080/"
        },
        "id": "OY8XyOcPJov2",
        "outputId": "66d75d63-f410-415e-c0b8-0035a5ee7795"
      },
      "execution_count": null,
      "outputs": [
        {
          "output_type": "stream",
          "name": "stdout",
          "text": [
            "Epoch 1/15\n",
            "625/625 - 24s - loss: 0.6596 - accuracy: 0.5949 - val_loss: 0.5590 - val_accuracy: 0.7401 - 24s/epoch - 39ms/step\n",
            "Epoch 2/15\n",
            "625/625 - 4s - loss: 0.4162 - accuracy: 0.8364 - val_loss: 0.3820 - val_accuracy: 0.8350 - 4s/epoch - 6ms/step\n",
            "Epoch 3/15\n",
            "625/625 - 3s - loss: 0.3039 - accuracy: 0.8802 - val_loss: 0.3487 - val_accuracy: 0.8548 - 3s/epoch - 5ms/step\n",
            "Epoch 4/15\n",
            "625/625 - 3s - loss: 0.2532 - accuracy: 0.9007 - val_loss: 0.3431 - val_accuracy: 0.8575 - 3s/epoch - 4ms/step\n",
            "Epoch 5/15\n",
            "625/625 - 3s - loss: 0.2197 - accuracy: 0.9157 - val_loss: 0.3421 - val_accuracy: 0.8571 - 3s/epoch - 5ms/step\n",
            "Epoch 6/15\n",
            "625/625 - 2s - loss: 0.1907 - accuracy: 0.9274 - val_loss: 0.3635 - val_accuracy: 0.8504 - 2s/epoch - 4ms/step\n",
            "Epoch 7/15\n",
            "625/625 - 2s - loss: 0.1705 - accuracy: 0.9358 - val_loss: 0.3756 - val_accuracy: 0.8486 - 2s/epoch - 4ms/step\n",
            "Epoch 8/15\n",
            "625/625 - 2s - loss: 0.1522 - accuracy: 0.9438 - val_loss: 0.3868 - val_accuracy: 0.8495 - 2s/epoch - 4ms/step\n",
            "Epoch 9/15\n",
            "625/625 - 3s - loss: 0.1365 - accuracy: 0.9504 - val_loss: 0.4087 - val_accuracy: 0.8478 - 3s/epoch - 4ms/step\n",
            "Epoch 10/15\n",
            "625/625 - 2s - loss: 0.1243 - accuracy: 0.9555 - val_loss: 0.4496 - val_accuracy: 0.8337 - 2s/epoch - 3ms/step\n",
            "Epoch 11/15\n",
            "625/625 - 2s - loss: 0.1112 - accuracy: 0.9624 - val_loss: 0.4461 - val_accuracy: 0.8486 - 2s/epoch - 4ms/step\n",
            "Epoch 12/15\n",
            "625/625 - 2s - loss: 0.1008 - accuracy: 0.9660 - val_loss: 0.4773 - val_accuracy: 0.8438 - 2s/epoch - 4ms/step\n",
            "Epoch 13/15\n",
            "625/625 - 3s - loss: 0.0934 - accuracy: 0.9685 - val_loss: 0.5015 - val_accuracy: 0.8413 - 3s/epoch - 4ms/step\n",
            "Epoch 14/15\n",
            "625/625 - 2s - loss: 0.0839 - accuracy: 0.9719 - val_loss: 0.5388 - val_accuracy: 0.8369 - 2s/epoch - 4ms/step\n",
            "Epoch 15/15\n",
            "625/625 - 2s - loss: 0.0768 - accuracy: 0.9741 - val_loss: 0.5582 - val_accuracy: 0.8360 - 2s/epoch - 3ms/step\n"
          ]
        }
      ]
    },
    {
      "cell_type": "code",
      "source": [
        "import matplotlib.pyplot as plt\n",
        "\n",
        "def plot_graphs(history, string):\n",
        "  plt.plot(history.history[string])\n",
        "  plt.plot(history.history['val_'+string])\n",
        "  plt.xlabel(\"Epochs\")\n",
        "  plt.ylabel(string)\n",
        "  plt.legend([string, 'val_'+string])\n",
        "  plt.show()\n",
        "\n",
        "plot_graphs(history, \"accuracy\")\n",
        "plot_graphs(history, \"loss\")"
      ],
      "metadata": {
        "colab": {
          "base_uri": "https://localhost:8080/",
          "height": 881
        },
        "id": "X2O7yV_dJo0D",
        "outputId": "966604fd-6bf7-420b-935d-63703f8930fd"
      },
      "execution_count": null,
      "outputs": [
        {
          "output_type": "display_data",
          "data": {
            "text/plain": [
              "<Figure size 640x480 with 1 Axes>"
            ],
            "image/png": "[encoded data removed]"
          },
          "metadata": {}
        },
        {
          "output_type": "display_data",
          "data": {
            "text/plain": [
              "<Figure size 640x480 with 1 Axes>"
            ],
            "image/png": "[encoded data removed]"
          },
          "metadata": {}
        }
      ]
    },
    {
      "cell_type": "code",
      "source": [
        "sentence = [\"granny starting to fear spiders in the garden might be real\", \"game of thrones season finale showing this sunday night\"]\n",
        "sequences = tokenizer.texts_to_sequences(sentence)\n",
        "padded = pad_sequences(sequences, maxlen=max_length, padding=padding_type, truncating=trunc_type)\n",
        "print(model.predict(padded))"
      ],
      "metadata": {
        "colab": {
          "base_uri": "https://localhost:8080/"
        },
        "id": "EltdD0TYJo3F",
        "outputId": "57cdc2c1-6be0-406f-d2f3-b738906b3825"
      },
      "execution_count": null,
      "outputs": [
        {
          "output_type": "stream",
          "name": "stdout",
          "text": [
            "1/1 [==============================] - 0s 77ms/step\n",
            "[[0.91679525]\n",
            " [0.00760463]]\n"
          ]
        }
      ]
    },
    {
      "cell_type": "code",
      "source": [
        "from google.colab import drive\n",
        "drive.mount('/content/drive')"
      ],
      "metadata": {
        "colab": {
          "base_uri": "https://localhost:8080/"
        },
        "id": "71jxhvRYLRli",
        "outputId": "7c042b20-005a-411c-f548-6665c6a72ac3"
      },
      "execution_count": null,
      "outputs": [
        {
          "output_type": "stream",
          "name": "stdout",
          "text": [
            "Mounted at /content/drive\n"
          ]
        }
      ]
    },
    {
      "cell_type": "code",
      "source": [],
      "metadata": {
        "id": "gx-2B36iJo5v"
      },
      "execution_count": null,
      "outputs": []
    }
  ],
  "metadata": {
    "colab": {
      "provenance": [],
      "gpuType": "T4"
    },
    "kernelspec": {
      "display_name": "Python 3",
      "name": "python3"
    },
    "accelerator": "GPU"
  },
  "nbformat": 4,
  "nbformat_minor": 0
}